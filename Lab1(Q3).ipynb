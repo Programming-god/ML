{
  "nbformat": 4,
  "nbformat_minor": 0,
  "metadata": {
    "colab": {
      "provenance": [],
      "include_colab_link": true
    },
    "kernelspec": {
      "name": "python3",
      "display_name": "Python 3"
    },
    "language_info": {
      "name": "python"
    }
  },
  "cells": [
    {
      "cell_type": "markdown",
      "metadata": {
        "id": "view-in-github",
        "colab_type": "text"
      },
      "source": [
        "<a href=\"https://colab.research.google.com/github/Programming-god/ML/blob/main/Lab1(Q3).ipynb\" target=\"_parent\"><img src=\"https://colab.research.google.com/assets/colab-badge.svg\" alt=\"Open In Colab\"/></a>"
      ]
    },
    {
      "cell_type": "code",
      "execution_count": null,
      "metadata": {
        "id": "WpYxXwIvgNFb"
      },
      "outputs": [],
      "source": [
        "\n",
        "\n",
        "# Importing necessary libraries\n",
        "import pandas as pd\n",
        "from sklearn.preprocessing import MinMaxScaler\n",
        "from sklearn.model_selection import train_test_split"
      ]
    },
    {
      "cell_type": "code",
      "source": [
        "\n",
        "\n",
        "# Webpage URL\n",
        "url = \"https://archive.ics.uci.edu/ml/machine-learning-databases/iris/iris.data\"\n",
        "\n",
        "# Define the column names\n",
        "col_names = [\"sepal_length_in_cm\",\n",
        "            \"sepal_width_in_cm\",\n",
        "            \"petal_length_in_cm\",\n",
        "            \"petal_width_in_cm\",\n",
        "            \"class\"]\n",
        "\n",
        "# Read data from URL\n",
        "df = pd.read_csv(url, names=col_names)\n"
      ],
      "metadata": {
        "id": "H-UdPVfUhwfF"
      },
      "execution_count": null,
      "outputs": []
    },
    {
      "cell_type": "code",
      "source": [
        "\n",
        "\n",
        "# 1. Handling Missing Values\n",
        "# Fill NA/NaN values using the specified method\n",
        "df.fillna(method ='pad')\n"
      ],
      "metadata": {
        "id": "fXMk87CShyLd"
      },
      "execution_count": null,
      "outputs": []
    },
    {
      "cell_type": "code",
      "source": [
        "\n",
        "# 2. Encoding Categorical Variables\n",
        "# Convert categorical variable into dummy/indicator variables\n",
        "df_encoded = pd.get_dummies(df['class'])\n"
      ],
      "metadata": {
        "id": "s7bTMb_Shzxd"
      },
      "execution_count": null,
      "outputs": []
    },
    {
      "cell_type": "code",
      "source": [
        "\n",
        "from sklearn.preprocessing import StandardScaler\n",
        "\n",
        "# Assuming 'df' is your DataFrame\n",
        "scaler = StandardScaler()\n",
        "columns_to_scale = ['sepal_length_in_cm', 'sepal_width_in_cm', 'petal_length_in_cm', 'petal_width_in_cm']\n",
        "df[columns_to_scale] = scaler.fit_transform(df[columns_to_scale])\n"
      ],
      "metadata": {
        "id": "8zC-INLHh1sc"
      },
      "execution_count": null,
      "outputs": []
    },
    {
      "cell_type": "code",
      "source": [
        "\n",
        "# Min-Max Scaler\n",
        "scaler = MinMaxScaler()\n",
        "df[['sepal_length_in_cm', 'sepal_width_in_cm', 'petal_length_in_cm', 'petal_width_in_cm']] = scaler.fit_transform(df[['sepal_length_in_cm', 'sepal_width_in_cm', 'petal_length_in_cm', 'petal_width_in_cm']])\n"
      ],
      "metadata": {
        "id": "VX6xnuHwh5vm"
      },
      "execution_count": null,
      "outputs": []
    },
    {
      "cell_type": "code",
      "source": [
        "# 4. Splitting the dataset\n",
        "X_train, X_test, y_train, y_test = train_test_split(df.drop('class', axis=1), df_encoded, test_size=0.2)\n"
      ],
      "metadata": {
        "id": "Lz47BQ09h7-E"
      },
      "execution_count": null,
      "outputs": []
    }
  ]
}